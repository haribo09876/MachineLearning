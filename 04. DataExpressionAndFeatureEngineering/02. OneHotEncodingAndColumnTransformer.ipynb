{
 "cells": [
  {
   "cell_type": "markdown",
   "metadata": {},
   "source": [
    "## 4-2. OneHotEncoding 와 ColumnTransformer: scikit-learn으로 범주형 변수 다루기\n",
    "- 이전에 언급한 것처럼 scikit-learn은 원-핫-인코딩을 수행할 수 있음\n",
    "- scikit-learn은 훈련 세트와 테스트 세트를 같은 방식으로 다루기 쉬운 것이 장점\n",
    "- 원-핫-인코딩은 OneHotEncoder 클래스에 구현되어 있음\n",
    "- OneHotEncoding는 모든 열에 인코딩을 수행"
   ]
  },
  {
   "cell_type": "code",
   "execution_count": 3,
   "metadata": {},
   "outputs": [
    {
     "name": "stdout",
     "output_type": "stream",
     "text": [
      "[[1. 0. 0. 0. 1. 0.]\n",
      " [0. 1. 0. 0. 0. 1.]\n",
      " [0. 0. 1. 0. 1. 0.]\n",
      " [0. 1. 0. 1. 0. 0.]]\n"
     ]
    },
    {
     "name": "stderr",
     "output_type": "stream",
     "text": [
      "c:\\Python311\\Lib\\site-packages\\sklearn\\preprocessing\\_encoders.py:975: FutureWarning: `sparse` was renamed to `sparse_output` in version 1.2 and will be removed in 1.4. `sparse_output` is ignored unless you leave `sparse` to its default value.\n",
      "  warnings.warn(\n"
     ]
    }
   ],
   "source": [
    "from sklearn.preprocessing import OneHotEncoder\n",
    "import pandas as pd\n",
    "\n",
    "demo_df = pd.DataFrame({\"숫자 특성\": [0, 1, 2, 1], \"범주형 특성\": [\"양말\", \"여우\", \"양말\", \"상자\"]})\n",
    "demo_df\n",
    "pd.get_dummies(demo_df)\n",
    "demo_df[\"숫자 특성\"] = demo_df[\"숫자 특성\"].astype(str)\n",
    "pd.get_dummies(demo_df, columns=[\"숫자 특성\", \"범주형 특성\"])\n",
    "\n",
    "\n",
    "# sparse=False로 설정하면 OneHotEncoding가 희소 행렬이 아니라 넘파이 배열을 반환\n",
    "ohe = OneHotEncoder(sparse=False)\n",
    "print(ohe.fit_transform(demo_df))"
   ]
  }
 ],
 "metadata": {
  "kernelspec": {
   "display_name": "Python 3",
   "language": "python",
   "name": "python3"
  },
  "language_info": {
   "codemirror_mode": {
    "name": "ipython",
    "version": 3
   },
   "file_extension": ".py",
   "mimetype": "text/x-python",
   "name": "python",
   "nbconvert_exporter": "python",
   "pygments_lexer": "ipython3",
   "version": "3.11.0"
  }
 },
 "nbformat": 4,
 "nbformat_minor": 2
}
