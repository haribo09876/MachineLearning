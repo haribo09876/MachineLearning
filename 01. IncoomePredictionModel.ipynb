{
 "cells": [
  {
   "cell_type": "markdown",
   "metadata": {},
   "source": [
    "# 1. 소득 예측 모델\n",
    "\n",
    "## 모델 만드는 절차\n",
    "### 전처리 -> 모델 만들기 -> 예측 및 성능 평가\n",
    "\n",
    "고가 상품 구매 프로모션\n",
    "- 고가 상품 구매 가능성이 높은 사람을 예측해 프로모션에 드는 시간 및 비용을 절약\n",
    "\n",
    "저소득층 지원 대상 확대\n",
    "- 저소득층을 선제적으로 찾아 지원하면 스스로 지원 요건 확인하고 신청하는 경우보다 복지 프로그램 대상을 확대에 용이"
   ]
  },
  {
   "cell_type": "code",
   "execution_count": 162,
   "metadata": {},
   "outputs": [
    {
     "name": "stdout",
     "output_type": "stream",
     "text": [
      "<class 'pandas.core.frame.DataFrame'>\n",
      "RangeIndex: 48842 entries, 0 to 48841\n",
      "Data columns (total 15 columns):\n",
      " #   Column          Non-Null Count  Dtype \n",
      "---  ------          --------------  ----- \n",
      " 0   age             48842 non-null  int64 \n",
      " 1   workclass       48842 non-null  object\n",
      " 2   fnlwgt          48842 non-null  int64 \n",
      " 3   education       48842 non-null  object\n",
      " 4   education_num   48842 non-null  int64 \n",
      " 5   marital_status  48842 non-null  object\n",
      " 6   occupation      48842 non-null  object\n",
      " 7   relationship    48842 non-null  object\n",
      " 8   race            48842 non-null  object\n",
      " 9   sex             48842 non-null  object\n",
      " 10  capital_gain    48842 non-null  int64 \n",
      " 11  capital_loss    48842 non-null  int64 \n",
      " 12  hours_per_week  48842 non-null  int64 \n",
      " 13  native_country  48842 non-null  object\n",
      " 14  income          48842 non-null  object\n",
      "dtypes: int64(6), object(9)\n",
      "memory usage: 5.6+ MB\n"
     ]
    }
   ],
   "source": [
    "import pandas as pd\n",
    "import numpy as np\n",
    "\n",
    "df = pd.read_csv('adult.csv')\n",
    "df.info()"
   ]
  },
  {
   "cell_type": "code",
   "execution_count": 163,
   "metadata": {},
   "outputs": [
    {
     "data": {
      "text/plain": [
       "income\n",
       "<=50K    0.760718\n",
       ">50K     0.239282\n",
       "Name: proportion, dtype: float64"
      ]
     },
     "execution_count": 163,
     "metadata": {},
     "output_type": "execute_result"
    }
   ],
   "source": [
    "# 타겟 변수 전처리\n",
    "# 연소득이 5만 달러를 초과하는 사람\n",
    "df['income'].value_counts(normalize = True)"
   ]
  },
  {
   "cell_type": "code",
   "execution_count": 164,
   "metadata": {},
   "outputs": [
    {
     "data": {
      "text/plain": [
       "income\n",
       "low     0.760718\n",
       "high    0.239282\n",
       "Name: proportion, dtype: float64"
      ]
     },
     "execution_count": 164,
     "metadata": {},
     "output_type": "execute_result"
    }
   ],
   "source": [
    "# 5만 달러를 초과하면 'high', 그렇지 않으면 'low'로 값을 수정\n",
    "df['income'] = np.where(df['income'] == '>50K', 'high', 'low')\n",
    "df['income'].value_counts(normalize = True)"
   ]
  },
  {
   "cell_type": "code",
   "execution_count": 165,
   "metadata": {},
   "outputs": [],
   "source": [
    "# 불필요한 변수 제거\n",
    "df = df.drop(columns = 'fnlwgt')"
   ]
  },
  {
   "cell_type": "markdown",
   "metadata": {},
   "source": [
    "원핫 인코딩 (One-Hot Incoding)\n",
    "- 변수의 범주가 특정 값이면 1, 그렇지 않으면 0으로 바꾸면 문자 타입 변수를 숫자 타입으로 만드는 것"
   ]
  },
  {
   "cell_type": "code",
   "execution_count": 166,
   "metadata": {},
   "outputs": [
    {
     "name": "stdout",
     "output_type": "stream",
     "text": [
      "<class 'pandas.core.frame.DataFrame'>\n",
      "RangeIndex: 48842 entries, 0 to 48841\n",
      "Data columns (total 1 columns):\n",
      " #   Column  Non-Null Count  Dtype \n",
      "---  ------  --------------  ----- \n",
      " 0   sex     48842 non-null  object\n",
      "dtypes: object(1)\n",
      "memory usage: 381.7+ KB\n"
     ]
    }
   ],
   "source": [
    "df_tmp = df[['sex']]\n",
    "df_tmp.info()"
   ]
  },
  {
   "cell_type": "code",
   "execution_count": 167,
   "metadata": {},
   "outputs": [
    {
     "data": {
      "text/plain": [
       "sex\n",
       "Male      32650\n",
       "Female    16192\n",
       "Name: count, dtype: int64"
      ]
     },
     "execution_count": 167,
     "metadata": {},
     "output_type": "execute_result"
    }
   ],
   "source": [
    "df_tmp['sex'].value_counts()"
   ]
  },
  {
   "cell_type": "code",
   "execution_count": 168,
   "metadata": {},
   "outputs": [
    {
     "name": "stdout",
     "output_type": "stream",
     "text": [
      "<class 'pandas.core.frame.DataFrame'>\n",
      "RangeIndex: 48842 entries, 0 to 48841\n",
      "Data columns (total 2 columns):\n",
      " #   Column      Non-Null Count  Dtype\n",
      "---  ------      --------------  -----\n",
      " 0   sex_Female  48842 non-null  bool \n",
      " 1   sex_Male    48842 non-null  bool \n",
      "dtypes: bool(2)\n",
      "memory usage: 95.5 KB\n"
     ]
    }
   ],
   "source": [
    "# df_tmp의 문자 타입 변수에 원핫 인코딩 적용\n",
    "df_tmp = pd.get_dummies(df_tmp)\n",
    "df_tmp.info()"
   ]
  },
  {
   "cell_type": "code",
   "execution_count": 169,
   "metadata": {},
   "outputs": [
    {
     "data": {
      "text/html": [
       "<div>\n",
       "<style scoped>\n",
       "    .dataframe tbody tr th:only-of-type {\n",
       "        vertical-align: middle;\n",
       "    }\n",
       "\n",
       "    .dataframe tbody tr th {\n",
       "        vertical-align: top;\n",
       "    }\n",
       "\n",
       "    .dataframe thead th {\n",
       "        text-align: right;\n",
       "    }\n",
       "</style>\n",
       "<table border=\"1\" class=\"dataframe\">\n",
       "  <thead>\n",
       "    <tr style=\"text-align: right;\">\n",
       "      <th></th>\n",
       "      <th>sex_Female</th>\n",
       "      <th>sex_Male</th>\n",
       "    </tr>\n",
       "  </thead>\n",
       "  <tbody>\n",
       "    <tr>\n",
       "      <th>0</th>\n",
       "      <td>False</td>\n",
       "      <td>True</td>\n",
       "    </tr>\n",
       "    <tr>\n",
       "      <th>1</th>\n",
       "      <td>False</td>\n",
       "      <td>True</td>\n",
       "    </tr>\n",
       "    <tr>\n",
       "      <th>2</th>\n",
       "      <td>False</td>\n",
       "      <td>True</td>\n",
       "    </tr>\n",
       "    <tr>\n",
       "      <th>3</th>\n",
       "      <td>False</td>\n",
       "      <td>True</td>\n",
       "    </tr>\n",
       "    <tr>\n",
       "      <th>4</th>\n",
       "      <td>True</td>\n",
       "      <td>False</td>\n",
       "    </tr>\n",
       "  </tbody>\n",
       "</table>\n",
       "</div>"
      ],
      "text/plain": [
       "   sex_Female  sex_Male\n",
       "0       False      True\n",
       "1       False      True\n",
       "2       False      True\n",
       "3       False      True\n",
       "4        True     False"
      ]
     },
     "execution_count": 169,
     "metadata": {},
     "output_type": "execute_result"
    }
   ],
   "source": [
    "df_tmp[['sex_Female', 'sex_Male']].head()\n",
    "# 원핫코딩 문제 : 0, 1 형태가 아닌, boolean 형태로 나타남"
   ]
  },
  {
   "cell_type": "code",
   "execution_count": 170,
   "metadata": {},
   "outputs": [
    {
     "name": "stdout",
     "output_type": "stream",
     "text": [
      "<class 'pandas.core.frame.DataFrame'>\n",
      "RangeIndex: 48842 entries, 0 to 48841\n",
      "Columns: 108 entries, age to income\n",
      "dtypes: bool(102), int64(5), object(1)\n",
      "memory usage: 7.0+ MB\n"
     ]
    }
   ],
   "source": [
    "target = df['income']             # income 추출\n",
    "\n",
    "df = df.drop(columns = 'income')  # income 제거\n",
    "df = pd.get_dummies(df)           # 문자 타입 변수 원핫 인코딩\n",
    "\n",
    "df['income'] = target             # df에 target 삽입\n",
    "df.info()"
   ]
  },
  {
   "cell_type": "code",
   "execution_count": 171,
   "metadata": {},
   "outputs": [
    {
     "name": "stdout",
     "output_type": "stream",
     "text": [
      "<class 'pandas.core.frame.DataFrame'>\n",
      "RangeIndex: 48842 entries, 0 to 48841\n",
      "Data columns (total 108 columns):\n",
      " #    Column                                     Non-Null Count  Dtype \n",
      "---   ------                                     --------------  ----- \n",
      " 0    age                                        48842 non-null  int64 \n",
      " 1    education_num                              48842 non-null  int64 \n",
      " 2    capital_gain                               48842 non-null  int64 \n",
      " 3    capital_loss                               48842 non-null  int64 \n",
      " 4    hours_per_week                             48842 non-null  int64 \n",
      " 5    workclass_?                                48842 non-null  bool  \n",
      " 6    workclass_Federal-gov                      48842 non-null  bool  \n",
      " 7    workclass_Local-gov                        48842 non-null  bool  \n",
      " 8    workclass_Never-worked                     48842 non-null  bool  \n",
      " 9    workclass_Private                          48842 non-null  bool  \n",
      " 10   workclass_Self-emp-inc                     48842 non-null  bool  \n",
      " 11   workclass_Self-emp-not-inc                 48842 non-null  bool  \n",
      " 12   workclass_State-gov                        48842 non-null  bool  \n",
      " 13   workclass_Without-pay                      48842 non-null  bool  \n",
      " 14   education_10th                             48842 non-null  bool  \n",
      " 15   education_11th                             48842 non-null  bool  \n",
      " 16   education_12th                             48842 non-null  bool  \n",
      " 17   education_1st-4th                          48842 non-null  bool  \n",
      " 18   education_5th-6th                          48842 non-null  bool  \n",
      " 19   education_7th-8th                          48842 non-null  bool  \n",
      " 20   education_9th                              48842 non-null  bool  \n",
      " 21   education_Assoc-acdm                       48842 non-null  bool  \n",
      " 22   education_Assoc-voc                        48842 non-null  bool  \n",
      " 23   education_Bachelors                        48842 non-null  bool  \n",
      " 24   education_Doctorate                        48842 non-null  bool  \n",
      " 25   education_HS-grad                          48842 non-null  bool  \n",
      " 26   education_Masters                          48842 non-null  bool  \n",
      " 27   education_Preschool                        48842 non-null  bool  \n",
      " 28   education_Prof-school                      48842 non-null  bool  \n",
      " 29   education_Some-college                     48842 non-null  bool  \n",
      " 30   marital_status_Divorced                    48842 non-null  bool  \n",
      " 31   marital_status_Married-AF-spouse           48842 non-null  bool  \n",
      " 32   marital_status_Married-civ-spouse          48842 non-null  bool  \n",
      " 33   marital_status_Married-spouse-absent       48842 non-null  bool  \n",
      " 34   marital_status_Never-married               48842 non-null  bool  \n",
      " 35   marital_status_Separated                   48842 non-null  bool  \n",
      " 36   marital_status_Widowed                     48842 non-null  bool  \n",
      " 37   occupation_?                               48842 non-null  bool  \n",
      " 38   occupation_Adm-clerical                    48842 non-null  bool  \n",
      " 39   occupation_Armed-Forces                    48842 non-null  bool  \n",
      " 40   occupation_Craft-repair                    48842 non-null  bool  \n",
      " 41   occupation_Exec-managerial                 48842 non-null  bool  \n",
      " 42   occupation_Farming-fishing                 48842 non-null  bool  \n",
      " 43   occupation_Handlers-cleaners               48842 non-null  bool  \n",
      " 44   occupation_Machine-op-inspct               48842 non-null  bool  \n",
      " 45   occupation_Other-service                   48842 non-null  bool  \n",
      " 46   occupation_Priv-house-serv                 48842 non-null  bool  \n",
      " 47   occupation_Prof-specialty                  48842 non-null  bool  \n",
      " 48   occupation_Protective-serv                 48842 non-null  bool  \n",
      " 49   occupation_Sales                           48842 non-null  bool  \n",
      " 50   occupation_Tech-support                    48842 non-null  bool  \n",
      " 51   occupation_Transport-moving                48842 non-null  bool  \n",
      " 52   relationship_Husband                       48842 non-null  bool  \n",
      " 53   relationship_Not-in-family                 48842 non-null  bool  \n",
      " 54   relationship_Other-relative                48842 non-null  bool  \n",
      " 55   relationship_Own-child                     48842 non-null  bool  \n",
      " 56   relationship_Unmarried                     48842 non-null  bool  \n",
      " 57   relationship_Wife                          48842 non-null  bool  \n",
      " 58   race_Amer-Indian-Eskimo                    48842 non-null  bool  \n",
      " 59   race_Asian-Pac-Islander                    48842 non-null  bool  \n",
      " 60   race_Black                                 48842 non-null  bool  \n",
      " 61   race_Other                                 48842 non-null  bool  \n",
      " 62   race_White                                 48842 non-null  bool  \n",
      " 63   sex_Female                                 48842 non-null  bool  \n",
      " 64   sex_Male                                   48842 non-null  bool  \n",
      " 65   native_country_?                           48842 non-null  bool  \n",
      " 66   native_country_Cambodia                    48842 non-null  bool  \n",
      " 67   native_country_Canada                      48842 non-null  bool  \n",
      " 68   native_country_China                       48842 non-null  bool  \n",
      " 69   native_country_Columbia                    48842 non-null  bool  \n",
      " 70   native_country_Cuba                        48842 non-null  bool  \n",
      " 71   native_country_Dominican-Republic          48842 non-null  bool  \n",
      " 72   native_country_Ecuador                     48842 non-null  bool  \n",
      " 73   native_country_El-Salvador                 48842 non-null  bool  \n",
      " 74   native_country_England                     48842 non-null  bool  \n",
      " 75   native_country_France                      48842 non-null  bool  \n",
      " 76   native_country_Germany                     48842 non-null  bool  \n",
      " 77   native_country_Greece                      48842 non-null  bool  \n",
      " 78   native_country_Guatemala                   48842 non-null  bool  \n",
      " 79   native_country_Haiti                       48842 non-null  bool  \n",
      " 80   native_country_Holand-Netherlands          48842 non-null  bool  \n",
      " 81   native_country_Honduras                    48842 non-null  bool  \n",
      " 82   native_country_Hong                        48842 non-null  bool  \n",
      " 83   native_country_Hungary                     48842 non-null  bool  \n",
      " 84   native_country_India                       48842 non-null  bool  \n",
      " 85   native_country_Iran                        48842 non-null  bool  \n",
      " 86   native_country_Ireland                     48842 non-null  bool  \n",
      " 87   native_country_Italy                       48842 non-null  bool  \n",
      " 88   native_country_Jamaica                     48842 non-null  bool  \n",
      " 89   native_country_Japan                       48842 non-null  bool  \n",
      " 90   native_country_Laos                        48842 non-null  bool  \n",
      " 91   native_country_Mexico                      48842 non-null  bool  \n",
      " 92   native_country_Nicaragua                   48842 non-null  bool  \n",
      " 93   native_country_Outlying-US(Guam-USVI-etc)  48842 non-null  bool  \n",
      " 94   native_country_Peru                        48842 non-null  bool  \n",
      " 95   native_country_Philippines                 48842 non-null  bool  \n",
      " 96   native_country_Poland                      48842 non-null  bool  \n",
      " 97   native_country_Portugal                    48842 non-null  bool  \n",
      " 98   native_country_Puerto-Rico                 48842 non-null  bool  \n",
      " 99   native_country_Scotland                    48842 non-null  bool  \n",
      " 100  native_country_South                       48842 non-null  bool  \n",
      " 101  native_country_Taiwan                      48842 non-null  bool  \n",
      " 102  native_country_Thailand                    48842 non-null  bool  \n",
      " 103  native_country_Trinadad&Tobago             48842 non-null  bool  \n",
      " 104  native_country_United-States               48842 non-null  bool  \n",
      " 105  native_country_Vietnam                     48842 non-null  bool  \n",
      " 106  native_country_Yugoslavia                  48842 non-null  bool  \n",
      " 107  income                                     48842 non-null  object\n",
      "dtypes: bool(102), int64(5), object(1)\n",
      "memory usage: 7.0+ MB\n"
     ]
    }
   ],
   "source": [
    "df.info(max_cols = np.inf)"
   ]
  },
  {
   "cell_type": "markdown",
   "metadata": {},
   "source": [
    "## scikit-learn 패키지로 adult 데이터 분할\n",
    "- test_size : 테스트 세트의 비율. 트레이닝 세트와 테스트 세트의 비율은 보통 7:3 또는 8:2로 정함. 데이터가 많을수록 트레이닝 세트의 비율을 늘리고 반대로 데이터가 적을수록 테스트 세트의 비율을 늘림\n",
    "- stratify : 범주별 비율을 통일할 변수. stratify에 타겟 변수를 입력하면 트레이닝 세트와 테스트 세트에 타겟 변수의 범주별 비율을 비슷하게 맞춰줌. 타겟 변수를 입력하지 않으면 타겟 변수의 범주별 비율이 데이터 세트마다 달라지므로 평가 결과를 신뢰하기 어려움\n",
    "- random_state : 난수 초깃값. train_test_split()은 난수를 이용해 데이터를 무작위로 추출하므로 함수를 실행할 때마다 추출되는 데이터가 조금씩 달라짐. 난수를 고정하면 코드를 반복 실행해도 항상 같은 데이터가 추출\n"
   ]
  },
  {
   "cell_type": "code",
   "execution_count": 172,
   "metadata": {},
   "outputs": [],
   "source": [
    "from sklearn.model_selection import train_test_split\n",
    "df_train, df_test = train_test_split(df,\n",
    "                                     test_size = 0.3,\n",
    "                                     stratify = df['income'],\n",
    "                                     random_state = 1234)"
   ]
  },
  {
   "cell_type": "code",
   "execution_count": 173,
   "metadata": {},
   "outputs": [
    {
     "data": {
      "text/plain": [
       "(34189, 108)"
      ]
     },
     "execution_count": 173,
     "metadata": {},
     "output_type": "execute_result"
    }
   ],
   "source": [
    "# train\n",
    "df_train.shape"
   ]
  },
  {
   "cell_type": "code",
   "execution_count": 174,
   "metadata": {},
   "outputs": [
    {
     "data": {
      "text/plain": [
       "(14653, 108)"
      ]
     },
     "execution_count": 174,
     "metadata": {},
     "output_type": "execute_result"
    }
   ],
   "source": [
    "# test\n",
    "df_test.shape"
   ]
  },
  {
   "cell_type": "code",
   "execution_count": 175,
   "metadata": {},
   "outputs": [
    {
     "data": {
      "text/plain": [
       "income\n",
       "low     0.760713\n",
       "high    0.239287\n",
       "Name: proportion, dtype: float64"
      ]
     },
     "execution_count": 175,
     "metadata": {},
     "output_type": "execute_result"
    }
   ],
   "source": [
    "# train\n",
    "df_train['income'].value_counts(normalize = True)"
   ]
  },
  {
   "cell_type": "code",
   "execution_count": 176,
   "metadata": {},
   "outputs": [
    {
     "data": {
      "text/plain": [
       "income\n",
       "low     0.760732\n",
       "high    0.239268\n",
       "Name: proportion, dtype: float64"
      ]
     },
     "execution_count": 176,
     "metadata": {},
     "output_type": "execute_result"
    }
   ],
   "source": [
    "# test\n",
    "df_test['income'].value_counts(normalize = True)"
   ]
  },
  {
   "cell_type": "markdown",
   "metadata": {},
   "source": [
    "## 의사결정나무 모델 생성\n",
    "sklearn의 tree.DecisionTreeClassifier() 클래스를 이용하면 의사결정나무 모델을 만들 수 있음\n",
    "- random_state : 난수 초깃값. 변수 선택 과정에서 난수를 이용하기 때문에 코드를 실행할 때마다 결과가 조금씩 달라짐. 난수를 고정하면 코드를 여러 번 실행해도 결과가 항상 같음\n",
    "- max_depth : 나무의 깊이. 노드를 최대 몇 번까지 분할할지 결정. 숫자가 클수록 노드를 여러 번 분할해 복잡한 모델을 생성. 값을 지정하지 않으면 노드를 최대한 많이 분할"
   ]
  },
  {
   "cell_type": "code",
   "execution_count": 177,
   "metadata": {},
   "outputs": [],
   "source": [
    "from sklearn import tree\n",
    "clf = tree.DecisionTreeClassifier(random_state = 1234,  # 난수 고정\n",
    "                                  max_depth = 3)        # 나무 깊이"
   ]
  },
  {
   "cell_type": "markdown",
   "metadata": {},
   "source": [
    "## 모델 만들기\n",
    "df_train에서 예측 변수와 타겟 변수를 각각 추출해 데이터 프레임을 만듦. clf.fit()의 x에는 예측 변수, y에는 타겟 변수를 입력"
   ]
  },
  {
   "cell_type": "code",
   "execution_count": 178,
   "metadata": {},
   "outputs": [],
   "source": [
    "train_x = df_train.drop(columns = 'income') # 예측 변수 추출\n",
    "train_y = df_train['income']                # 타겟 변수 추출\n",
    "\n",
    "model = clf.fit(X = train_x, y = train_y)   # 모델 만들기"
   ]
  },
  {
   "cell_type": "markdown",
   "metadata": {},
   "source": [
    "## 모델 구조 살펴보기"
   ]
  },
  {
   "cell_type": "code",
   "execution_count": 179,
   "metadata": {},
   "outputs": [],
   "source": [
    "import matplotlib.pyplot as plt\n",
    "plt.rcParams.update({'figure.dpi'     : '100',    # 해상도 설정\n",
    "                     'figure.figsize' : [12, 8]}) # 그래프 크기 설정\n",
    "\n",
    "tree.plot_tree(model);                            # 그래프 출력"
   ]
  },
  {
   "cell_type": "code",
   "execution_count": 180,
   "metadata": {},
   "outputs": [],
   "source": [
    "# 가독성\n",
    "tree.plot_tree(model,\n",
    "               feature_names = train_x.columns, # 예측 변수명\n",
    "               class_names = ['high', 'low'],   # 타겟 변수 클래스, 알파벳순\n",
    "               proportion = True,               # 비율 표기\n",
    "               filled = True,                   # 색칠\n",
    "               rounded = True,                  # 둥근 테두리\n",
    "               impurity = False,                # 불순도 표시\n",
    "               label = 'root',                  # label 표시 위치\n",
    "               fontsize = 10);                  # 글자 크기"
   ]
  },
  {
   "cell_type": "markdown",
   "metadata": {},
   "source": [
    "## 모델을 이용해 예측"
   ]
  },
  {
   "cell_type": "code",
   "execution_count": 181,
   "metadata": {},
   "outputs": [],
   "source": [
    "test_x = df_test.drop(columns = 'income') # 예측 변수 추출\n",
    "test_y = df_test['income']                # 타겟 변수 추출"
   ]
  },
  {
   "cell_type": "markdown",
   "metadata": {},
   "source": [
    "model.predict()를 이용하면 모델을 이용해 새 데이터의 타겟 변수 값을 예측할 수 있음\n",
    "- model.predict()에 test_x를 입력해 타겟 변수 예측값을 구한 다음 df_test['pred']에 할당\n",
    "- df_test를 출력하면 가장 오른쪽에 pred가 만들어진 것을 확인 가능\n",
    "- pred는 모델이 train_x에 들어 있는 예측 변수만 이용해서 구한 값"
   ]
  },
  {
   "cell_type": "code",
   "execution_count": 182,
   "metadata": {},
   "outputs": [
    {
     "data": {
      "text/html": [
       "<div>\n",
       "<style scoped>\n",
       "    .dataframe tbody tr th:only-of-type {\n",
       "        vertical-align: middle;\n",
       "    }\n",
       "\n",
       "    .dataframe tbody tr th {\n",
       "        vertical-align: top;\n",
       "    }\n",
       "\n",
       "    .dataframe thead th {\n",
       "        text-align: right;\n",
       "    }\n",
       "</style>\n",
       "<table border=\"1\" class=\"dataframe\">\n",
       "  <thead>\n",
       "    <tr style=\"text-align: right;\">\n",
       "      <th></th>\n",
       "      <th>age</th>\n",
       "      <th>education_num</th>\n",
       "      <th>capital_gain</th>\n",
       "      <th>capital_loss</th>\n",
       "      <th>hours_per_week</th>\n",
       "      <th>workclass_?</th>\n",
       "      <th>workclass_Federal-gov</th>\n",
       "      <th>workclass_Local-gov</th>\n",
       "      <th>workclass_Never-worked</th>\n",
       "      <th>workclass_Private</th>\n",
       "      <th>...</th>\n",
       "      <th>native_country_Scotland</th>\n",
       "      <th>native_country_South</th>\n",
       "      <th>native_country_Taiwan</th>\n",
       "      <th>native_country_Thailand</th>\n",
       "      <th>native_country_Trinadad&amp;Tobago</th>\n",
       "      <th>native_country_United-States</th>\n",
       "      <th>native_country_Vietnam</th>\n",
       "      <th>native_country_Yugoslavia</th>\n",
       "      <th>income</th>\n",
       "      <th>pred</th>\n",
       "    </tr>\n",
       "  </thead>\n",
       "  <tbody>\n",
       "    <tr>\n",
       "      <th>11712</th>\n",
       "      <td>58</td>\n",
       "      <td>10</td>\n",
       "      <td>0</td>\n",
       "      <td>0</td>\n",
       "      <td>60</td>\n",
       "      <td>False</td>\n",
       "      <td>False</td>\n",
       "      <td>False</td>\n",
       "      <td>False</td>\n",
       "      <td>False</td>\n",
       "      <td>...</td>\n",
       "      <td>False</td>\n",
       "      <td>False</td>\n",
       "      <td>False</td>\n",
       "      <td>False</td>\n",
       "      <td>False</td>\n",
       "      <td>True</td>\n",
       "      <td>False</td>\n",
       "      <td>False</td>\n",
       "      <td>low</td>\n",
       "      <td>low</td>\n",
       "    </tr>\n",
       "    <tr>\n",
       "      <th>24768</th>\n",
       "      <td>39</td>\n",
       "      <td>10</td>\n",
       "      <td>0</td>\n",
       "      <td>0</td>\n",
       "      <td>40</td>\n",
       "      <td>False</td>\n",
       "      <td>False</td>\n",
       "      <td>False</td>\n",
       "      <td>False</td>\n",
       "      <td>True</td>\n",
       "      <td>...</td>\n",
       "      <td>False</td>\n",
       "      <td>False</td>\n",
       "      <td>False</td>\n",
       "      <td>False</td>\n",
       "      <td>False</td>\n",
       "      <td>False</td>\n",
       "      <td>False</td>\n",
       "      <td>False</td>\n",
       "      <td>low</td>\n",
       "      <td>low</td>\n",
       "    </tr>\n",
       "    <tr>\n",
       "      <th>26758</th>\n",
       "      <td>31</td>\n",
       "      <td>4</td>\n",
       "      <td>0</td>\n",
       "      <td>0</td>\n",
       "      <td>20</td>\n",
       "      <td>False</td>\n",
       "      <td>False</td>\n",
       "      <td>False</td>\n",
       "      <td>False</td>\n",
       "      <td>True</td>\n",
       "      <td>...</td>\n",
       "      <td>False</td>\n",
       "      <td>False</td>\n",
       "      <td>False</td>\n",
       "      <td>False</td>\n",
       "      <td>False</td>\n",
       "      <td>True</td>\n",
       "      <td>False</td>\n",
       "      <td>False</td>\n",
       "      <td>low</td>\n",
       "      <td>low</td>\n",
       "    </tr>\n",
       "    <tr>\n",
       "      <th>14295</th>\n",
       "      <td>23</td>\n",
       "      <td>9</td>\n",
       "      <td>0</td>\n",
       "      <td>0</td>\n",
       "      <td>40</td>\n",
       "      <td>False</td>\n",
       "      <td>False</td>\n",
       "      <td>False</td>\n",
       "      <td>False</td>\n",
       "      <td>True</td>\n",
       "      <td>...</td>\n",
       "      <td>False</td>\n",
       "      <td>False</td>\n",
       "      <td>False</td>\n",
       "      <td>False</td>\n",
       "      <td>False</td>\n",
       "      <td>True</td>\n",
       "      <td>False</td>\n",
       "      <td>False</td>\n",
       "      <td>low</td>\n",
       "      <td>low</td>\n",
       "    </tr>\n",
       "    <tr>\n",
       "      <th>3683</th>\n",
       "      <td>24</td>\n",
       "      <td>9</td>\n",
       "      <td>0</td>\n",
       "      <td>0</td>\n",
       "      <td>40</td>\n",
       "      <td>False</td>\n",
       "      <td>False</td>\n",
       "      <td>False</td>\n",
       "      <td>False</td>\n",
       "      <td>True</td>\n",
       "      <td>...</td>\n",
       "      <td>False</td>\n",
       "      <td>False</td>\n",
       "      <td>False</td>\n",
       "      <td>False</td>\n",
       "      <td>False</td>\n",
       "      <td>True</td>\n",
       "      <td>False</td>\n",
       "      <td>False</td>\n",
       "      <td>low</td>\n",
       "      <td>low</td>\n",
       "    </tr>\n",
       "    <tr>\n",
       "      <th>...</th>\n",
       "      <td>...</td>\n",
       "      <td>...</td>\n",
       "      <td>...</td>\n",
       "      <td>...</td>\n",
       "      <td>...</td>\n",
       "      <td>...</td>\n",
       "      <td>...</td>\n",
       "      <td>...</td>\n",
       "      <td>...</td>\n",
       "      <td>...</td>\n",
       "      <td>...</td>\n",
       "      <td>...</td>\n",
       "      <td>...</td>\n",
       "      <td>...</td>\n",
       "      <td>...</td>\n",
       "      <td>...</td>\n",
       "      <td>...</td>\n",
       "      <td>...</td>\n",
       "      <td>...</td>\n",
       "      <td>...</td>\n",
       "      <td>...</td>\n",
       "    </tr>\n",
       "    <tr>\n",
       "      <th>11985</th>\n",
       "      <td>24</td>\n",
       "      <td>13</td>\n",
       "      <td>0</td>\n",
       "      <td>0</td>\n",
       "      <td>30</td>\n",
       "      <td>False</td>\n",
       "      <td>False</td>\n",
       "      <td>False</td>\n",
       "      <td>False</td>\n",
       "      <td>True</td>\n",
       "      <td>...</td>\n",
       "      <td>False</td>\n",
       "      <td>False</td>\n",
       "      <td>False</td>\n",
       "      <td>False</td>\n",
       "      <td>False</td>\n",
       "      <td>True</td>\n",
       "      <td>False</td>\n",
       "      <td>False</td>\n",
       "      <td>low</td>\n",
       "      <td>low</td>\n",
       "    </tr>\n",
       "    <tr>\n",
       "      <th>48445</th>\n",
       "      <td>35</td>\n",
       "      <td>13</td>\n",
       "      <td>10520</td>\n",
       "      <td>0</td>\n",
       "      <td>45</td>\n",
       "      <td>False</td>\n",
       "      <td>False</td>\n",
       "      <td>False</td>\n",
       "      <td>False</td>\n",
       "      <td>True</td>\n",
       "      <td>...</td>\n",
       "      <td>False</td>\n",
       "      <td>False</td>\n",
       "      <td>False</td>\n",
       "      <td>False</td>\n",
       "      <td>False</td>\n",
       "      <td>True</td>\n",
       "      <td>False</td>\n",
       "      <td>False</td>\n",
       "      <td>high</td>\n",
       "      <td>high</td>\n",
       "    </tr>\n",
       "    <tr>\n",
       "      <th>19639</th>\n",
       "      <td>41</td>\n",
       "      <td>9</td>\n",
       "      <td>0</td>\n",
       "      <td>0</td>\n",
       "      <td>40</td>\n",
       "      <td>False</td>\n",
       "      <td>False</td>\n",
       "      <td>False</td>\n",
       "      <td>False</td>\n",
       "      <td>True</td>\n",
       "      <td>...</td>\n",
       "      <td>False</td>\n",
       "      <td>False</td>\n",
       "      <td>False</td>\n",
       "      <td>False</td>\n",
       "      <td>False</td>\n",
       "      <td>True</td>\n",
       "      <td>False</td>\n",
       "      <td>False</td>\n",
       "      <td>high</td>\n",
       "      <td>low</td>\n",
       "    </tr>\n",
       "    <tr>\n",
       "      <th>21606</th>\n",
       "      <td>29</td>\n",
       "      <td>4</td>\n",
       "      <td>0</td>\n",
       "      <td>0</td>\n",
       "      <td>30</td>\n",
       "      <td>False</td>\n",
       "      <td>False</td>\n",
       "      <td>False</td>\n",
       "      <td>False</td>\n",
       "      <td>True</td>\n",
       "      <td>...</td>\n",
       "      <td>False</td>\n",
       "      <td>False</td>\n",
       "      <td>False</td>\n",
       "      <td>False</td>\n",
       "      <td>False</td>\n",
       "      <td>False</td>\n",
       "      <td>False</td>\n",
       "      <td>False</td>\n",
       "      <td>low</td>\n",
       "      <td>low</td>\n",
       "    </tr>\n",
       "    <tr>\n",
       "      <th>3822</th>\n",
       "      <td>31</td>\n",
       "      <td>13</td>\n",
       "      <td>0</td>\n",
       "      <td>0</td>\n",
       "      <td>40</td>\n",
       "      <td>False</td>\n",
       "      <td>False</td>\n",
       "      <td>False</td>\n",
       "      <td>False</td>\n",
       "      <td>True</td>\n",
       "      <td>...</td>\n",
       "      <td>False</td>\n",
       "      <td>False</td>\n",
       "      <td>False</td>\n",
       "      <td>False</td>\n",
       "      <td>False</td>\n",
       "      <td>True</td>\n",
       "      <td>False</td>\n",
       "      <td>False</td>\n",
       "      <td>low</td>\n",
       "      <td>low</td>\n",
       "    </tr>\n",
       "  </tbody>\n",
       "</table>\n",
       "<p>14653 rows × 109 columns</p>\n",
       "</div>"
      ],
      "text/plain": [
       "       age  education_num  capital_gain  capital_loss  hours_per_week  \\\n",
       "11712   58             10             0             0              60   \n",
       "24768   39             10             0             0              40   \n",
       "26758   31              4             0             0              20   \n",
       "14295   23              9             0             0              40   \n",
       "3683    24              9             0             0              40   \n",
       "...    ...            ...           ...           ...             ...   \n",
       "11985   24             13             0             0              30   \n",
       "48445   35             13         10520             0              45   \n",
       "19639   41              9             0             0              40   \n",
       "21606   29              4             0             0              30   \n",
       "3822    31             13             0             0              40   \n",
       "\n",
       "       workclass_?  workclass_Federal-gov  workclass_Local-gov  \\\n",
       "11712        False                  False                False   \n",
       "24768        False                  False                False   \n",
       "26758        False                  False                False   \n",
       "14295        False                  False                False   \n",
       "3683         False                  False                False   \n",
       "...            ...                    ...                  ...   \n",
       "11985        False                  False                False   \n",
       "48445        False                  False                False   \n",
       "19639        False                  False                False   \n",
       "21606        False                  False                False   \n",
       "3822         False                  False                False   \n",
       "\n",
       "       workclass_Never-worked  workclass_Private  ...  \\\n",
       "11712                   False              False  ...   \n",
       "24768                   False               True  ...   \n",
       "26758                   False               True  ...   \n",
       "14295                   False               True  ...   \n",
       "3683                    False               True  ...   \n",
       "...                       ...                ...  ...   \n",
       "11985                   False               True  ...   \n",
       "48445                   False               True  ...   \n",
       "19639                   False               True  ...   \n",
       "21606                   False               True  ...   \n",
       "3822                    False               True  ...   \n",
       "\n",
       "       native_country_Scotland  native_country_South  native_country_Taiwan  \\\n",
       "11712                    False                 False                  False   \n",
       "24768                    False                 False                  False   \n",
       "26758                    False                 False                  False   \n",
       "14295                    False                 False                  False   \n",
       "3683                     False                 False                  False   \n",
       "...                        ...                   ...                    ...   \n",
       "11985                    False                 False                  False   \n",
       "48445                    False                 False                  False   \n",
       "19639                    False                 False                  False   \n",
       "21606                    False                 False                  False   \n",
       "3822                     False                 False                  False   \n",
       "\n",
       "       native_country_Thailand  native_country_Trinadad&Tobago  \\\n",
       "11712                    False                           False   \n",
       "24768                    False                           False   \n",
       "26758                    False                           False   \n",
       "14295                    False                           False   \n",
       "3683                     False                           False   \n",
       "...                        ...                             ...   \n",
       "11985                    False                           False   \n",
       "48445                    False                           False   \n",
       "19639                    False                           False   \n",
       "21606                    False                           False   \n",
       "3822                     False                           False   \n",
       "\n",
       "       native_country_United-States  native_country_Vietnam  \\\n",
       "11712                          True                   False   \n",
       "24768                         False                   False   \n",
       "26758                          True                   False   \n",
       "14295                          True                   False   \n",
       "3683                           True                   False   \n",
       "...                             ...                     ...   \n",
       "11985                          True                   False   \n",
       "48445                          True                   False   \n",
       "19639                          True                   False   \n",
       "21606                         False                   False   \n",
       "3822                           True                   False   \n",
       "\n",
       "       native_country_Yugoslavia  income  pred  \n",
       "11712                      False     low   low  \n",
       "24768                      False     low   low  \n",
       "26758                      False     low   low  \n",
       "14295                      False     low   low  \n",
       "3683                       False     low   low  \n",
       "...                          ...     ...   ...  \n",
       "11985                      False     low   low  \n",
       "48445                      False    high  high  \n",
       "19639                      False    high   low  \n",
       "21606                      False     low   low  \n",
       "3822                       False     low   low  \n",
       "\n",
       "[14653 rows x 109 columns]"
      ]
     },
     "execution_count": 182,
     "metadata": {},
     "output_type": "execute_result"
    }
   ],
   "source": [
    "# 예측값 구하기\n",
    "df_test['pred'] = model.predict(test_x)\n",
    "df_test"
   ]
  },
  {
   "cell_type": "markdown",
   "metadata": {},
   "source": [
    "## 성능 평가하기\n",
    "성능 평가 지표는 종류가 다양하고 특징이 서로 달라서 어떤 지표가 높더라도 다른 지표는 낮을 수 있음. 모델을 사용하는 목적에 맞게 평가 기준으로 삼을 지표를 선택해야 함"
   ]
  },
  {
   "cell_type": "markdown",
   "metadata": {},
   "source": [
    "## confusion matrix\n",
    "모델이 예측한 값 중 맞은 경우와 틀린 경우의 빈도를 나타낸 컨퓨전 매트릭스 (confusion matrix, 혼동 행렬)를 생성. sklearn.metrics의 confusion_matrix()를 이용하면 컨퓨전 매트릭스를 만들 수 있음. confusion_matrix()에는 다음 파라미터를 입력\n",
    "- y_true : 타겟 변수\n",
    "- y_pred : 예측 변수\n",
    "- labels : 클래스 배치 순서"
   ]
  },
  {
   "cell_type": "code",
   "execution_count": 183,
   "metadata": {},
   "outputs": [
    {
     "data": {
      "text/plain": [
       "array([[ 1801,  1705],\n",
       "       [  582, 10565]], dtype=int64)"
      ]
     },
     "execution_count": 183,
     "metadata": {},
     "output_type": "execute_result"
    }
   ],
   "source": [
    "from sklearn.metrics import confusion_matrix\n",
    "conf_mat = confusion_matrix(y_true = df_test['income'], # 실제값\n",
    "                            y_pred = df_test['pred'],   # 예측값\n",
    "                            labels = ['high', 'low'])   # 클래스 배치 순서\n",
    "conf_mat"
   ]
  },
  {
   "cell_type": "markdown",
   "metadata": {},
   "source": [
    "sklearn.metrics의 ConfusionMatrixDisplay()를 이용해 컨퓨전 매트릭스로 히트맵을 만들어 격자 위에 표시하고 값이 클수록 셀 색상의 농도를 진하게 표현한 그래프"
   ]
  },
  {
   "cell_type": "code",
   "execution_count": 184,
   "metadata": {},
   "outputs": [
    {
     "data": {
      "text/plain": [
       "<sklearn.metrics._plot.confusion_matrix.ConfusionMatrixDisplay at 0x27926f20a10>"
      ]
     },
     "execution_count": 184,
     "metadata": {},
     "output_type": "execute_result"
    }
   ],
   "source": [
    "plt.rcParams.update(plt.rcParamsDefault)                      # 그래프 설정 되돌리기\n",
    "\n",
    "from sklearn.metrics import ConfusionMatrixDisplay\n",
    "p = ConfusionMatrixDisplay(confusion_matrix = conf_mat,       # 컨퓨전 매트릭스\n",
    "                           display_labels = ('high', 'low'))  # 타겟 변수 클래스명\n",
    "\n",
    "p.plot(cmap = 'Blues')                                        # 컬러맵 적용해 출력\n",
    "# 컨퓨전 매트릭스 생성 문제"
   ]
  },
  {
   "cell_type": "markdown",
   "metadata": {},
   "source": [
    "## Accuracy (정확도)\n",
    "- 모델이 '예측해서 맞춘 비율'을 의미\n",
    "- 컨퓨전 매트릭스 전체 셀 합계에서 왼쪽 대각선 셀의 합계가 차지하는 비율\n",
    "- 모델의 성능을 평가할 때 기본적으로 accuracy를 가장 먼저 구함\n",
    "- 타겟 변수의 클래스별 비율이 불균형하면 신뢰하기 어렵다는 제한점\n",
    "- 따라서 accuracy의 점수가 높더라도 모델의 성능이 좋아서인지, 자료가 불균형해서인지 판단할 수 없음"
   ]
  },
  {
   "cell_type": "code",
   "execution_count": 185,
   "metadata": {},
   "outputs": [
    {
     "data": {
      "text/plain": [
       "0.8439227461953184"
      ]
     },
     "execution_count": 185,
     "metadata": {},
     "output_type": "execute_result"
    }
   ],
   "source": [
    "# accuracy\n",
    "import sklearn.metrics as metrics\n",
    "metrics.accuracy_score(y_true = df_test['income'],  # 실제값\n",
    "                       y_pred = df_test['pred'])    # 예측값"
   ]
  },
  {
   "cell_type": "markdown",
   "metadata": {},
   "source": [
    "## Precision (정밀도)\n",
    "- 모델이 '관심 클래스를 예측해서 맞춘 비율'을 의미\n",
    "- 컨퓨전 매트릭스 첫 번째 열의 셀 합계에서 위쪽 셀이 차지하는 비율\n",
    "- ex) 고소득자 예측 모델 : 모델이 income을 high로 예측한 사람 중에서 실제로 high인 사람의 비율\n",
    "- ex) 당뇨병 예측 모델 : 모델이 발병으로 예측한 사람 중에서 실제 발병한 사람의 비율"
   ]
  },
  {
   "cell_type": "code",
   "execution_count": 186,
   "metadata": {},
   "outputs": [
    {
     "data": {
      "text/plain": [
       "0.7557700377675199"
      ]
     },
     "execution_count": 186,
     "metadata": {},
     "output_type": "execute_result"
    }
   ],
   "source": [
    "# precision\n",
    "metrics.precision_score(y_true = df_test['income'],   # 실제값\n",
    "                        y_pred = df_test['pred'],     # 예측값\n",
    "                        pos_label = 'high')           # 관심 클래스"
   ]
  },
  {
   "cell_type": "markdown",
   "metadata": {},
   "source": [
    "## Recall (재현율)\n",
    "- 모델이 '실제 데이터에서 관심 클래스를 찾아낸 비율'을 의미\n",
    "- 컨퓨전 매트릭스 첫 번째 행의 셀 합계에서 왼쪽 셀이 차지하는 비율\n",
    "- ex) 고소득자 예측 모델 : income이 실제로 high인 사람 중에서 모델이 high로 예측해서 찾아낸 사람의 비율\n",
    "- ex) 당뇨병 예측 모델 : 실제 당뇨병 발병자 중에서 모델이 발병으로 예측해서 찾아낸 비율\n",
    "- recall과 precision은 계산할 때 분모에 놓는 값이 다름. precision은 모델이 '관심 클래스로 예측한 빈도'를 분모에 놓고 구하는 반면, recall은 '실제 관심 클래스의 빈도'를 분모에 놓고 구함"
   ]
  },
  {
   "cell_type": "code",
   "execution_count": 187,
   "metadata": {},
   "outputs": [
    {
     "data": {
      "text/plain": [
       "0.5136908157444381"
      ]
     },
     "execution_count": 187,
     "metadata": {},
     "output_type": "execute_result"
    }
   ],
   "source": [
    "# recall\n",
    "metrics.recall_score(y_true = df_test['income'],  # 실제값\n",
    "                     y_pred = df_test['pred'],    # 예측값\n",
    "                     pos_label = 'high')          # 관심 클래스"
   ]
  },
  {
   "cell_type": "markdown",
   "metadata": {},
   "source": [
    "## F1 score\n",
    "- recall과 precision이 모두 중요할 때는 recall과 precision의 크기를 함께 반영한 F1 score를 사용\n",
    "- recall과 precision의 조화평균으로, 0~1 사이의 값을 가지며 성능이 높을수록 1에 가까운 값이 됨\n",
    "- recall과 precision을 곱해서 구하기 때문에 둘 중 하나라도 0이면 0이 됨\n",
    "- accuracy와 달리 타겟 변수의 클래스가 불균형해도 모델의 성능을 잘 표현\n",
    "- recall과 precision을 고루 반영하고 클래스가 불균형해도 모델의 성능을 잘 나타내므로 여러 모델의 성능을 한 가지 지표로 비교해야 할 때 특히 자주 사용됨"
   ]
  },
  {
   "cell_type": "code",
   "execution_count": 188,
   "metadata": {},
   "outputs": [
    {
     "data": {
      "text/plain": [
       "0.6116488368143997"
      ]
     },
     "execution_count": 188,
     "metadata": {},
     "output_type": "execute_result"
    }
   ],
   "source": [
    "# F1 score\n",
    "metrics.f1_score(y_true = df_test['income'],  # 실제값\n",
    "                 y_pred = df_test['pred'],    # 예측값\n",
    "                 pos_label = 'high')          # 관심 클래스"
   ]
  },
  {
   "cell_type": "markdown",
   "metadata": {},
   "source": [
    "## 어떤 성능 평가 지표를 사용해야 할까?\n",
    "- 성능 평가 지표는 특징이 서로 달라서 어떤 지표가 높더라도 다른 지표는 낮을 수 있음. 따라서 모델을 사용하는 목적에 맞게 평가 기준으로 삼을 지표를 선택해야 함\n",
    "- accuracy는 모델의 일반적인 성능을 나타내므로 항상 살펴봐야 하고, 이데 더해 목적에 따라 precision 또는 recall 중 한 가지 이상을 함께 살펴봐야 함\n",
    "\n",
    "### precision : 관심 클래스가 분명할 때\n",
    "- 모델을 사용하는 목적이 타겟 변수의 클래스 중에서 관심을 두는 한쪽 클래스를 정확하게 예측하는 것이라면 precision 기준으로 성능을 평가해야 함\n",
    "- ex) 고소득자를 예측해 고가의 제품을 홍보하는 경우, 모델이 고소득자로 예측했을 때 얼마나 잘 맞는지 살펴봐야하므로 precision을 기준으로 평가해야 함\n",
    "- 타겟 변수의 한쪽 클래스에 분명한 관심이 있을 때 precision을 사용\n",
    "\n",
    "### recall : 관심 클래스를 최대한 많이 찾아내야 할 때\n",
    "- 모델을 사용하는 목적이 관심 클래스를 최대한 많이 찾아내는 것이라면 recall 기준으로 성능을 평가해야 함\n",
    "- ex) 전염병에 감염된 사람을 최대한 많이 찾아내 격리해야 한다면, 실제로 전염병에 감염된 사람 중에서 몇 퍼센트를 감염된 것으로 예측하는지 살펴봐야 하므로 recall을 기주능로 평가해야 함\n",
    "\n",
    "### 관심 클래스로 예측해서 틀릴 때 VS 관심 클래스를 놓칠 때 손실\n",
    "- 평가 기준으로 삼을 지표를 결정하는 또 다른 방법은 데이터를 '관심 클래스로 예측해서 틀릴 때'의 손실과 '관심 클래스를 놓칠 때'의 손실 중 무엇이 더 큰지를 놓고 판단하는 것\n",
    "- 데이터를 관심 클래스로 예측해서 틀릴 때 손실이 더 크면 precision, 반대로 관심 클래스를 놓칠 때 손실이 더 크면 recall을 평가 기준으로 사용\n",
    "\n",
    "### case 1) 고소득자에게 고가 선물을 보내 구매를 독려하는 마케팅\n",
    "- 관심 클래스로 예측해서 틀릴 때의 손실 : 구매할 가능성이 낮은 저소득자에게 값비싼 선물을 보냄\n",
    "- 관심 클래스를 놓칠 때의 손실 : 구매할 가능성이 있는 고소득자에게 선물을 보내지 않음\n",
    "- 이 경우, 데이터를 관심 클래스로 예측해서 틀릴 때의 손실이 더 큼. 따라서 비관심 클래스(negative)를 관심 클래스"
   ]
  },
  {
   "cell_type": "markdown",
   "metadata": {},
   "source": [
    "## 모델의 성능 지표가 얼마면 될까?"
   ]
  }
 ],
 "metadata": {
  "kernelspec": {
   "display_name": "Python 3",
   "language": "python",
   "name": "python3"
  },
  "language_info": {
   "codemirror_mode": {
    "name": "ipython",
    "version": 3
   },
   "file_extension": ".py",
   "mimetype": "text/x-python",
   "name": "python",
   "nbconvert_exporter": "python",
   "pygments_lexer": "ipython3",
   "version": "3.11.0"
  }
 },
 "nbformat": 4,
 "nbformat_minor": 2
}
