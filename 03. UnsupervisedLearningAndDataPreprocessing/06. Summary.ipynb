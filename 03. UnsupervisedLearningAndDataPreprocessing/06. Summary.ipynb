{
 "cells": [
  {
   "cell_type": "markdown",
   "metadata": {},
   "source": [
    "# 6. Summary (요약 및 정리)\n",
    "- 이번 장에서는 탐색적 데이터 분석과 데이터 전처리에 사용할 수 있는 여러 가지 비지도 학습 알고리즘을 소개했음\n",
    "- 데이터를 올바르게 표현하는 것은 지도 학습과 비지도 학습을  잘 적용하기 위해 필수적이며, 전처리와 분해 방법은 데이터 준비 단계에서 아주 중요한 부분\n",
    "- 분해, 매니폴드 학습, 군집은 주어진 데이터에 대한 이해를 높이기 위한 필수 도구이며, 레이블 정보가 없을 때 데이터를 분석할 수 있는 유일한 방법이기도 함\n",
    "- 지도 학습에서도 데이터 탐색 도구는 데이터의 특성을 잘 이해하는 데 중요\n",
    "- 비지도 학습의 성과를 정량화하기가 어려울 때가 많지만, 데이터에 대한 통찰을 얻을 수 있는 이런 도구들을 사용하지 않을 이유는 없음\n",
    "- 머신러닝 연구자들이 사용하는 이런 핵심 알고리즘들을 모두 손에 익혀두면 좋음\n",
    "- 또 2차원 예제 데이터와 scikit-learn에 있는 실제 데이터셋인 digits, iris, cancer 데이터셋에 여러분이 직접 군집과 분해 알고리즘을 적용"
   ]
  },
  {
   "cell_type": "markdown",
   "metadata": {},
   "source": [
    "### 추정기 인터페이스 요약\n",
    "- API는 scikit-learn의 모든 전처리, 지도 학습, 비지도 학습 알고리즘은 파이썬 클래스로 구현되어 있음\n",
    "- 이런 파이썬 클래스를 scikit-learn에서는 추정기(estimator)라고 부름\n",
    "- 알고리즘을 사용하려면 먼저 이 파이썬 클래스의 객체를 생성해야 함"
   ]
  },
  {
   "cell_type": "code",
   "execution_count": 1,
   "metadata": {},
   "outputs": [],
   "source": [
    "from sklearn.linear_model import LogisticRegression\n",
    "logreg = LogisticRegression()"
   ]
  },
  {
   "cell_type": "markdown",
   "metadata": {},
   "source": [
    "- 추정기 클래스는 알고리즘을 포함하고 있고 이 알고리즘을 사용해 데이터에서 학습한 모델을 저장\n",
    "- 모델 객체를 구성할 때 필요한 매개변수를 지정해야 함\n",
    "- 규제, 복잡도 제어, 찾을 클러스터 갯수 등이 이런 매개변수에 해당\n",
    "- 모든 추정기 클래스는 모델을 만들 때 사용하는 fit 메서드를 제공\n",
    "- fit 메서드는 항상 첫 번째 매개변수로 데이터 X를 필요로 하며, 하나의 데이터 포인트가 하나의 행이고 연속된 실숫값으로 표현된 NumPy 배열이거나 SciPy 희소 행렬임\n",
    "- 지도 학습 알고리즘은 회귀나 분류에서 필요한 타깃 값을 가지고 있는 1차원 NumPy 배열인 y 매개변수도 필요로 함 (출력 레이블 또는 응담이라고 함)\n",
    "- scikit-learn에서 학습된 모델을 적용하는 방법은 두 가지\n",
    "- y 배열과 같은 형태로 새 예측을 만들기 위해서는 predict 메서드를 사용\n",
    "- 입력 데이터 X의 새로운 표현 형태를 얻기 위해서는 transform 메서드를 사용\n",
    "- 모든 지도 학습 모델은 모델을 평가하기 위한 score(X_test, y_test) 메서드를 제공\n",
    "- X_train과 y_train은 훈련 데이터와 훈련 레이블을 나타내며 X_test는 테스트 데이터를 나타냄"
   ]
  }
 ],
 "metadata": {
  "kernelspec": {
   "display_name": "Python 3",
   "language": "python",
   "name": "python3"
  },
  "language_info": {
   "codemirror_mode": {
    "name": "ipython",
    "version": 3
   },
   "file_extension": ".py",
   "mimetype": "text/x-python",
   "name": "python",
   "nbconvert_exporter": "python",
   "pygments_lexer": "ipython3",
   "version": "3.11.0"
  }
 },
 "nbformat": 4,
 "nbformat_minor": 2
}
