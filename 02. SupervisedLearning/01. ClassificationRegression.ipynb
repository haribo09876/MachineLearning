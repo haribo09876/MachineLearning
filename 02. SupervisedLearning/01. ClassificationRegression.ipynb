{
 "cells": [
  {
   "cell_type": "markdown",
   "metadata": {},
   "source": [
    "# 1. Supervised Learning (지도 학습)\n",
    "# Classification Regression (분류와 회귀)"
   ]
  },
  {
   "cell_type": "markdown",
   "metadata": {},
   "source": [
    "### Classification (분류)\n",
    "- 미리 정의된, 가능성이 있는 여러 클래스 테이블 중 하나를 예측하는 것\n",
    "- 이진 분류 (binary classification) : 딱 두 개의 클래스로 분류 (ex) yes/no)\n",
    "- 다중 분류 (multiclass classification) : 셋 이상의 클래스로 분류\n",
    "\n",
    "### Regression (회귀)\n",
    "- 예상 출력 값 사이에 연속성이 있으면 회귀 문제. 또는 프로그래밍 용어로 말하면 부동소수점수를 예측하는 것\n",
    "- ex) 어떤 사람의 교육 수준, 나이, 주거지를 바탕으로 연간 소득을 예측\n",
    "- ex) 옥수수 농장에서 전년도 수확량과 날씨, 고용 인원수 등으로 올해 수확량을 예측하는 것"
   ]
  }
 ],
 "metadata": {
  "language_info": {
   "name": "python"
  }
 },
 "nbformat": 4,
 "nbformat_minor": 2
}
